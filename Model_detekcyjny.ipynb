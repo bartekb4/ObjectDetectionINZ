{
  "nbformat": 4,
  "nbformat_minor": 0,
  "metadata": {
    "colab": {
      "name": "Model detekcyjny.ipynb",
      "provenance": [],
      "authorship_tag": "ABX9TyN2Z9xGJ1CRwUEITkYH9oKN",
      "include_colab_link": true
    },
    "kernelspec": {
      "name": "python3",
      "display_name": "Python 3"
    }
  },
  "cells": [
    {
      "cell_type": "markdown",
      "metadata": {
        "id": "view-in-github",
        "colab_type": "text"
      },
      "source": [
        "<a href=\"https://colab.research.google.com/github/bartekb4/ObjectDetectionINZ/blob/main/Model_detekcyjny.ipynb\" target=\"_parent\"><img src=\"https://colab.research.google.com/assets/colab-badge.svg\" alt=\"Open In Colab\"/></a>"
      ]
    },
    {
      "cell_type": "code",
      "metadata": {
        "id": "jrHB5g1putvh"
      },
      "source": [
        "from google.colab import drive\r\n",
        " \r\n",
        "drive.mount('/gdrive')\r\n",
        "# the project's folder\r\n",
        "%cd /gdrive/'My Drive'/tf/tensorflow"
      ],
      "execution_count": null,
      "outputs": []
    },
    {
      "cell_type": "code",
      "metadata": {
        "id": "jr2R0x8UuznE"
      },
      "source": [
        "from __future__ import division, print_function, absolute_import\r\n",
        "\r\n",
        "import pandas as pd\r\n",
        "import numpy as np\r\n",
        "import csv\r\n",
        "\r\n",
        "import re\r\n",
        "import os\r\n",
        "import io\r\n",
        "import glob\r\n",
        "import shutil\r\n",
        "import urllib.request\r\n",
        "import tarfile\r\n",
        "import xml.etree.ElementTree as ET\r\n",
        "\r\n",
        "import tensorflow as tf\r\n",
        "import cv2 \r\n",
        "\r\n",
        "from PIL import Image\r\n",
        "from collections import namedtuple, OrderedDict\r\n",
        "\r\n",
        "from google.colab import files"
      ],
      "execution_count": null,
      "outputs": []
    },
    {
      "cell_type": "code",
      "metadata": {
        "id": "V4SRDRPSu3tT"
      },
      "source": [
        "!apt-get install -qq protobuf-compiler python-pil python-tk\r\n",
        "!pip install -qq Cython contextlib2 pillow matplotlib pycocotools\r\n",
        "!pip install cython\r\n",
        "!pip install git+https://github.com/philferriere/cocoapi.git#subdirectory=PythonAPI\r\n",
        "!pip install numpy==1.17.4"
      ],
      "execution_count": null,
      "outputs": []
    },
    {
      "cell_type": "code",
      "metadata": {
        "id": "gBzOpVwdu7Hh"
      },
      "source": [
        "%cd /gdrive/My Drive/tf/tensorflow/models/research\r\n",
        "!protoc object_detection/protos/*.proto --python_out=.\r\n"
      ],
      "execution_count": null,
      "outputs": []
    },
    {
      "cell_type": "code",
      "metadata": {
        "id": "5MOFnJORu746"
      },
      "source": [
        "import os\r\n",
        "pwd = os.getcwd()\r\n",
        "os.environ['PYTHONPATH'] += f':{pwd}:{pwd}/slim'"
      ],
      "execution_count": null,
      "outputs": []
    },
    {
      "cell_type": "code",
      "metadata": {
        "id": "nf1JqodkvBJr"
      },
      "source": [
        "%cd /gdrive/My Drive/tf/tensorflow/models/research/\r\n",
        "!cp object_detection/packages/tf2/setup.py .\r\n",
        "!python -m pip install ."
      ],
      "execution_count": null,
      "outputs": []
    },
    {
      "cell_type": "code",
      "metadata": {
        "id": "sfykZWIZvEmT"
      },
      "source": [
        "%cd /gdrive/My Drive/tf/tensorflow/workspace/training_demo/exported_models\r\n",
        "import time\r\n",
        "\r\n",
        "PATH_TO_SAVED_MODEL = \"my_model/saved_model\"\r\n",
        "\r\n",
        "print('Loading model...', end='')\r\n",
        "start_time = time.time()\r\n",
        "\r\n",
        "# Load saved model and build the detection function\r\n",
        "detect_fn = tf.saved_model.load(PATH_TO_SAVED_MODEL)\r\n",
        "\r\n",
        "end_time = time.time()\r\n",
        "elapsed_time = end_time - start_time\r\n",
        "print('Done! Took {} seconds'.format(elapsed_time))"
      ],
      "execution_count": null,
      "outputs": []
    },
    {
      "cell_type": "code",
      "metadata": {
        "id": "2wXMPbYyvIFx"
      },
      "source": [
        "%cd /gdrive/My Drive/tf/tensorflow/workspace/testing/test/"
      ],
      "execution_count": null,
      "outputs": []
    },
    {
      "cell_type": "code",
      "metadata": {
        "id": "Y_a5Tk6KvJtN"
      },
      "source": [
        "import os\r\n",
        "\r\n",
        "\r\n",
        "path = '/gdrive/My Drive/tf/tensorflow/workspace/testing/test/'\r\n",
        "IMAGE_PATHS = os.listdir(path)\r\n",
        "print(IMAGE_PATHS)\r\n"
      ],
      "execution_count": null,
      "outputs": []
    },
    {
      "cell_type": "code",
      "metadata": {
        "id": "K6GIcNTBvLIj"
      },
      "source": [
        "from object_detection.utils import visualization_utils as viz_utils\r\n",
        "from object_detection.utils import label_map_util\r\n",
        "category_index = label_map_util.create_category_index_from_labelmap('/gdrive/My Drive/tf/tensorflow/workspace/training_demo/annotations/label_map.pbtxt', use_display_name=True)\r\n",
        "#from object_detection.utils import visualization_utils as viz_utils\r\n",
        "%cd /gdrive/My Drive/tf/tensorflow/workspace/testing/test/\r\n",
        "import numpy as np\r\n",
        "import os\r\n",
        "import six.moves.urllib as urllib\r\n",
        "import sys\r\n",
        "import tarfile\r\n",
        "import tensorflow as tf\r\n",
        "import zipfile\r\n",
        "from distutils.version import StrictVersion\r\n",
        "from collections import defaultdict\r\n",
        "from io import StringIO\r\n",
        "from matplotlib import pyplot as plt\r\n",
        "from PIL import Image\r\n",
        "#warnings.filterwarnings('ignore')   # Suppress Matplotlib warnings\r\n",
        "path=\"/gdrive/My Drive/tf/tensorflow/workspace/testing/test/\"\r\n",
        "def load_image_into_numpy_array(path):\r\n",
        "    \"\"\"Load an image from file into a numpy array.\r\n",
        "\r\n",
        "    Puts image into numpy array to feed into tensorflow graph.\r\n",
        "    Note that by convention we put it into a numpy array with shape\r\n",
        "    (height, width, channels), where channels=3 for RGB.\r\n",
        "\r\n",
        "    Args:\r\n",
        "      path: the file path to the image\r\n",
        "\r\n",
        "    Returns:\r\n",
        "      uint8 numpy array with shape (img_height, img_width, 3)\r\n",
        "    \"\"\"\r\n",
        "    return np.array(Image.open(path))\r\n",
        "\r\n",
        "\r\n",
        "for image_path in IMAGE_PATHS:\r\n",
        "\r\n",
        "    print('Running inference for {}... '.format(image_path), end='')\r\n",
        "\r\n",
        "    image_np = load_image_into_numpy_array(image_path)\r\n",
        "\r\n",
        "    # Things to try:\r\n",
        "    # Flip horizontally\r\n",
        "    # image_np = np.fliplr(image_np).copy()\r\n",
        "\r\n",
        "    # Convert image to grayscale\r\n",
        "    # image_np = np.tile(\r\n",
        "    #     np.mean(image_np, 2, keepdims=True), (1, 1, 3)).astype(np.uint8)\r\n",
        "\r\n",
        "    # The input needs to be a tensor, convert it using `tf.convert_to_tensor`.\r\n",
        "    input_tensor = tf.convert_to_tensor(image_np)\r\n",
        "    # The model expects a batch of images, so add an axis with `tf.newaxis`.\r\n",
        "    input_tensor = input_tensor[tf.newaxis, ...]\r\n",
        "\r\n",
        "    # input_tensor = np.expand_dims(image_np, 0)\r\n",
        "    detections = detect_fn(input_tensor)\r\n",
        "\r\n",
        "    # All outputs are batches tensors.\r\n",
        "    # Convert to numpy arrays, and take index [0] to remove the batch dimension.\r\n",
        "    # We're only interested in the first num_detections.\r\n",
        "    num_detections = int(detections.pop('num_detections'))\r\n",
        "    detections = {key: value[0, :num_detections].numpy()\r\n",
        "                   for key, value in detections.items()}\r\n",
        "    detections['num_detections'] = num_detections\r\n",
        "\r\n",
        "    # detection_classes should be ints.\r\n",
        "    detections['detection_classes'] = detections['detection_classes'].astype(np.int64)\r\n",
        "\r\n",
        "    image_np_with_detections = image_np.copy()\r\n",
        "\r\n",
        "    viz_utils.visualize_boxes_and_labels_on_image_array(\r\n",
        "          image_np_with_detections,\r\n",
        "          detections['detection_boxes'],\r\n",
        "          detections['detection_classes'],\r\n",
        "          detections['detection_scores'],\r\n",
        "          category_index,\r\n",
        "          min_score_thresh=.4,\r\n",
        "          use_normalized_coordinates=True,\r\n",
        "          line_thickness=1)\r\n",
        "\r\n",
        "    plt.figure()\r\n",
        "    #print(detections['detection_boxes']) \r\n",
        "    #plt.imshow(image_np_with_detections)\r\n",
        "    print('Done')\r\n",
        "    #display(Image.fromarray(image_np_with_detections))\r\n",
        "plt.show()\r\n",
        "\r\n",
        "# sphinx_gallery_thumbnail_number = 2"
      ],
      "execution_count": null,
      "outputs": []
    }
  ]
}